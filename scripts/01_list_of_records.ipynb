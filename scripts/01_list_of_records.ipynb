{
 "cells": [
  {
   "cell_type": "code",
   "execution_count": null,
   "id": "f0f5c17c",
   "metadata": {},
   "outputs": [],
   "source": [
    "from bs4 import BeautifulSoup as bs\n",
    "import requests\n",
    "import lxml\n",
    "import pandas as pd\n",
    "import numpy as np\n",
    "import os\n",
    "import playwright\n",
    "from configparser import ConfigParser\n",
    "from urllib.parse import urljoin\n",
    "import json\n",
    "import pandas as pd\n",
    "import time"
   ]
  },
  {
   "cell_type": "code",
   "execution_count": null,
   "id": "334b6b98",
   "metadata": {},
   "outputs": [],
   "source": [
    "API_VERSION = \"v3\"\n",
    "ROOT_URL = \"https://api.congress.gov/\"\n",
    "RESPONSE_FORMAT = \"json\"\n",
    "\n",
    "\n",
    "class _MethodWrapper:\n",
    "    \"\"\" Wrap request method to facilitate queries.  Supports requests signature. \"\"\"\n",
    "\n",
    "    def __init__(self, parent, http_method):\n",
    "        self._parent = parent\n",
    "        self._method = getattr(parent._session, http_method)\n",
    "\n",
    "    def __call__(self, endpoint, *args, **kwargs):  # full signature passed here\n",
    "        response = self._method(\n",
    "            urljoin(self._parent.base_url, endpoint), *args, **kwargs\n",
    "        )\n",
    "        # unpack\n",
    "        if response.headers.get(\"content-type\", \"\").startswith(\"application/json\"):\n",
    "            return response.json(), response.status_code\n",
    "        else:\n",
    "            return response.content, response.status_code\n",
    "\n",
    "\n",
    "class CDGClient:\n",
    "    \"\"\" A sample client to interface with Congress.gov. \"\"\"\n",
    "\n",
    "    def __init__(\n",
    "        self,\n",
    "        api_key,\n",
    "        api_version=API_VERSION,\n",
    "        response_format=RESPONSE_FORMAT,\n",
    "        raise_on_error=True,\n",
    "    ):\n",
    "        self.base_url = urljoin(ROOT_URL, api_version) + \"/\"\n",
    "        self._session = requests.Session()\n",
    "\n",
    "        # do not use url parameters, even if offered, use headers\n",
    "        self._session.params = {\"format\": response_format}\n",
    "        self._session.headers.update({\"x-api-key\": api_key})\n",
    "\n",
    "        if raise_on_error:\n",
    "            self._session.hooks = {\n",
    "                \"response\": lambda r, *args, **kwargs: r.raise_for_status()\n",
    "            }\n",
    "\n",
    "    def __getattr__(self, method_name):\n",
    "        \"\"\"Find the session method dynamically and cache for later.\"\"\"\n",
    "        method = _MethodWrapper(self, method_name)\n",
    "        self.__dict__[method_name] = method\n",
    "        return method"
   ]
  },
  {
   "cell_type": "code",
   "execution_count": null,
   "id": "ef20311b",
   "metadata": {},
   "outputs": [],
   "source": [
    "api_key = '' # Write your API key from Congress API here.\n",
    "client = CDGClient(api_key = api_key)"
   ]
  },
  {
   "cell_type": "markdown",
   "id": "b657c77e",
   "metadata": {},
   "source": [
    "## Get the PDF links for Senate and House"
   ]
  },
  {
   "cell_type": "code",
   "execution_count": null,
   "id": "d6b85138",
   "metadata": {
    "scrolled": true
   },
   "outputs": [],
   "source": [
    "offsets = [0, 250, 0, 250, 0, 250, 0, 250, 0, 250, 0, 250, 0, 250, 0, 250, 0, 250, 0, 250, 0, 250, 0, 250, 0, 250, 0, 250, \n",
    "          0, 250, 0, 250, 0, 250, 0, 250, 0, 250, 0, 250, 0, 250, 0, 250, 0, 250, 0, 250, 0, 250, 0, 250, 0, 250, 0, 250]\n",
    "years = [1995, 1995, 1996, 1996, 1997, 1997, 1998, 1998, 1999, 1999, 2000, 2000, 2001, 2001, 2002, 2002, 2003, 2003, 2004,\n",
    "        2004, 2005, 2005, 2006, 2006, 2007, 2007, 2008, 2008, 2009, 2009, 2010, 2010, 2011, 2011, 2012, 2012, 2013, 2013,\n",
    "        2014, 2014, 2015, 2015, 2016, 2016, 2017, 2017, 2018, 2018, 2020, 2020, 2021, 2021, 2022, 2022, 2023, 2023]\n",
    "\n",
    "# Initialize empty lists to store Senate Section and House Section URLs\n",
    "senate = []\n",
    "house = []\n",
    "\n",
    "for off, year in zip(offsets, years):\n",
    "    # Construct the API endpoint with the current offset and year\n",
    "    endpoint = f\"congressional-record?format=json&y={year}&offset={off}&limit=250\"\n",
    "\n",
    "    # Make the API request using your client\n",
    "    data, status_code = client.get(endpoint)\n",
    "\n",
    "    # Check the status code to ensure a successful response\n",
    "    if status_code == 200:\n",
    "        # Iterate through the Issues and extract Senate and House Section URLs\n",
    "        for issue in data['Results']['Issues']:\n",
    "            if 'Senate' in issue['Links'] and issue['Links']['Senate']['Label'] == 'Senate Section':\n",
    "                senate.extend([pdf['Url'] for pdf in issue['Links']['Senate']['PDF']])\n",
    "            if 'House' in issue['Links'] and issue['Links']['House']['Label'] == 'House Section':\n",
    "                house.extend([pdf['Url'] for pdf in issue['Links']['House']['PDF']])\n",
    "    else:\n",
    "        print(f\"Failed to fetch data for year {year} with offset {off}. Status code: {status_code}\")  "
   ]
  },
  {
   "cell_type": "code",
   "execution_count": null,
   "id": "b1292434",
   "metadata": {},
   "outputs": [],
   "source": [
    "# 2019 needs to be done seperately. It is giving error to parameters for some reason.\n",
    "\n",
    "# Construct the API endpoint with the current offset and year\n",
    "endpoint = f\"congressional-record?format=json&y=2019&offset=0&limit=210\"\n",
    "\n",
    "# Make the API request using your client\n",
    "data, status_code = client.get(endpoint)\n",
    "\n",
    "# Check the status code to ensure a successful response\n",
    "if status_code == 200:\n",
    "    # Iterate through the Issues and extract Senate and House Section URLs\n",
    "    for issue in data['Results']['Issues']:\n",
    "        if 'Senate' in issue['Links'] and issue['Links']['Senate']['Label'] == 'Senate Section':\n",
    "            senate.extend([pdf['Url'] for pdf in issue['Links']['Senate']['PDF']])\n",
    "        if 'House' in issue['Links'] and issue['Links']['House']['Label'] == 'House Section':\n",
    "            house.extend([pdf['Url'] for pdf in issue['Links']['House']['PDF']])\n",
    "else:\n",
    "    print(f\"Failed to fetch data for year {year} with offset {off}. Status code: {status_code}\") "
   ]
  },
  {
   "cell_type": "code",
   "execution_count": null,
   "id": "63ef1cc5",
   "metadata": {},
   "outputs": [],
   "source": [
    "# Seperate By Session\n",
    "# Senate\n",
    "# Initialize a dictionary to group links by the value\n",
    "link_senate = {}\n",
    "\n",
    "# Iterate through the links and group them by the value (e.g., \"104\")\n",
    "for link in senate:\n",
    "    # Extract the value from the link (e.g., \"104\")\n",
    "    value = link.split('/')[3]  # Assumes the value is always at this position\n",
    "    # Create a list for the value if it doesn't exist in the dictionary\n",
    "    if value not in link_senate:\n",
    "        link_senate[value] = []\n",
    "    # Append the link to the corresponding value in the dictionary\n",
    "    link_senate[value].append(link)\n",
    "\n",
    "# Convert the dictionary to a list of lists\n",
    "linksen = list(link_senate.values())\n",
    "\n",
    "# House\n",
    "# Initialize a dictionary to group links by the value\n",
    "link_house = {}\n",
    "\n",
    "# Iterate through the links and group them by the value (e.g., \"104\")\n",
    "for link in house:\n",
    "    # Extract the value from the link (e.g., \"104\")\n",
    "    value = link.split('/')[3]  # Assumes the value is always at this position\n",
    "    # Create a list for the value if it doesn't exist in the dictionary\n",
    "    if value not in link_house:\n",
    "        link_house[value] = []\n",
    "    # Append the link to the corresponding value in the dictionary\n",
    "    link_house[value].append(link)\n",
    "\n",
    "# Convert the dictionary to a list of lists\n",
    "linkho = list(link_house.values())"
   ]
  },
  {
   "cell_type": "code",
   "execution_count": null,
   "id": "07f8d356",
   "metadata": {},
   "outputs": [],
   "source": [
    "# Create the subdirectory if it doesn't exist\n",
    "subdirectory = '../records_links'\n",
    "os.makedirs(subdirectory, exist_ok=False)"
   ]
  },
  {
   "cell_type": "code",
   "execution_count": null,
   "id": "b6bc5296",
   "metadata": {},
   "outputs": [],
   "source": [
    "# Iterate through link_lists and save each list to a separate text file in the subdirectory\n",
    "for i, links in enumerate(linksen, start=1):\n",
    "    # Define the filename for the text file in the subdirectory (e.g., \"output/links_104.txt\")\n",
    "    filename = os.path.join(subdirectory, f\"senate_links_{list(link_senate.keys())[i-1]}.txt\")\n",
    "    with open(filename, 'w') as file:\n",
    "        # Write each link to the text file, separated by a line\n",
    "        file.write('\\n'.join(links))\n",
    "    print(f\"Saved links to {filename}\")"
   ]
  },
  {
   "cell_type": "code",
   "execution_count": null,
   "id": "0cfa833d",
   "metadata": {},
   "outputs": [],
   "source": [
    "# Iterate through link_lists and save each list to a separate text file in the subdirectory\n",
    "for i, links in enumerate(linkho, start=1):\n",
    "    # Define the filename for the text file in the subdirectory (e.g., \"output/links_104.txt\")\n",
    "    filename = os.path.join(subdirectory, f\"house_links_{list(link_house.keys())[i-1]}.txt\")\n",
    "    with open(filename, 'w') as file:\n",
    "        # Write each link to the text file, separated by a line\n",
    "        file.write('\\n'.join(links))\n",
    "    print(f\"Saved links to {filename}\")"
   ]
  },
  {
   "cell_type": "code",
   "execution_count": null,
   "id": "2934592a",
   "metadata": {},
   "outputs": [],
   "source": [
    "# Some are saved into a text file called crec. These do not have the session number in the links. \n",
    "# There are only 4 in total so it would make sense to just correct them manually.\n",
    "\n",
    "#https://www.congress.gov/crec/2005/07/18/CREC-2005-07-18-house.pdf\n",
    "#https://www.congress.gov/crec/2016/12/30/CREC-2016-12-30-house-bk2.pdf\n",
    "#https://www.congress.gov/crec/2017/09/18/CREC-2017-09-18-house.pdf\n",
    "#https://www.congress.gov/crec/2018/01/03/CREC-2018-01-03-house-bk2.pdf\n"
   ]
  },
  {
   "cell_type": "code",
   "execution_count": null,
   "id": "e73c5b06",
   "metadata": {},
   "outputs": [],
   "source": []
  }
 ],
 "metadata": {
  "kernelspec": {
   "display_name": "Python 3 (ipykernel)",
   "language": "python",
   "name": "python3"
  },
  "language_info": {
   "codemirror_mode": {
    "name": "ipython",
    "version": 3
   },
   "file_extension": ".py",
   "mimetype": "text/x-python",
   "name": "python",
   "nbconvert_exporter": "python",
   "pygments_lexer": "ipython3",
   "version": "3.11.5"
  }
 },
 "nbformat": 4,
 "nbformat_minor": 5
}
